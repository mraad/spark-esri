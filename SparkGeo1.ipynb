{
 "cells": [
  {
   "cell_type": "code",
   "execution_count": null,
   "id": "fed28ed5",
   "metadata": {},
   "outputs": [],
   "source": [
    "from pathlib import Path\n",
    "\n",
    "from spark_esri import spark_start, spark_stop"
   ]
  },
  {
   "cell_type": "code",
   "execution_count": null,
   "id": "55a341cf",
   "metadata": {},
   "outputs": [],
   "source": [
    "extra_java_options = \"-XX:+UseCompressedOops -XX:+AggressiveHeap\"\n",
    "\n",
    "jars = str(Path.home() / \"sparkgeo-3.2-0.53\" / \"sparkgeo-3.2-0.53.jar\")\n",
    "\n",
    "config = {\n",
    "    \"spark.driver.memory\": \"31G\",\n",
    "    \"spark.executor.memory\": \"31G\",\n",
    "    \"spark.driver.extraJavaOptions\": extra_java_options,\n",
    "    \"spark.executor.extraJavaOptions\": extra_java_options,\n",
    "    \"spark.serializer\": \"org.apache.spark.serializer.KryoSerializer\",\n",
    "    \"spark.kryo.unsafe\": True,\n",
    "    \"spark.memory.offHeap.enable\": True,\n",
    "    \"spark.memory.offHeap.size\": \"31G\",\n",
    "    \"spark.jars\": jars\n",
    "}\n",
    "\n",
    "spark_stop()\n",
    "spark = spark_start(config=config)"
   ]
  },
  {
   "cell_type": "code",
   "execution_count": null,
   "id": "831fc913",
   "metadata": {},
   "outputs": [],
   "source": [
    "spark.version"
   ]
  },
  {
   "cell_type": "code",
   "execution_count": null,
   "id": "5af39faf",
   "metadata": {},
   "outputs": [],
   "source": [
    "spark.range(10).show()"
   ]
  }
 ],
 "metadata": {
  "kernelspec": {
   "display_name": "Python 3",
   "language": "python",
   "name": "python3"
  },
  "language_info": {
   "file_extension": ".py",
   "name": "python",
   "version": "3"
  }
 },
 "nbformat": 4,
 "nbformat_minor": 5
}

{
 "cells": [
  {
   "cell_type": "markdown",
   "metadata": {},
   "source": [
    "## On Machine Learning in Pro/Notebook with Spark\n",
    "\n",
    "Notebook to demonstrate the usage of the ArcGIS Pro built-in [Apache Spark](https://spark.apache.org) in preparing data for machine learning training.\n",
    "\n",
    "We will be using the [Forest-based Classification and Regression (Spatial Statistics)](https://pro.arcgis.com/en/pro-app/tool-reference/spatial-statistics/forestbasedclassificationregression.htm) GeoProcessing task to predict (or attempt to predict) the duration of a NYC taxi trip given a pickup location, a dropoff location, and a time of day.\n",
    "\n",
    "This process is inspired by [this](https://www.kaggle.com/c/nyc-taxi-trip-duration/overview) Kaggle competition, and the data can be download from [here](https://www.kaggle.com/c/nyc-taxi-trip-duration/data).\n",
    "\n",
    "This notebook also demonstrates the usage of [Pandas User Defined Functions](https://docs.databricks.com/spark/latest/spark-sql/udf-python-pandas.html) to geo-enrich the data.\n",
    "\n",
    "Please read the instructions in the `README` file to setup your conda environment with the required python modules."
   ]
  },
  {
   "cell_type": "markdown",
   "metadata": {},
   "source": [
    "### Import Esri Spark module."
   ]
  },
  {
   "cell_type": "code",
   "execution_count": 1,
   "metadata": {
    "pycharm": {
     "name": "#%%\n"
    }
   },
   "outputs": [],
   "source": [
    "from spark_esri import spark_start, spark_stop"
   ]
  },
  {
   "cell_type": "code",
   "execution_count": 2,
   "metadata": {
    "pycharm": {
     "name": "#%%\n"
    }
   },
   "outputs": [],
   "source": [
    "import os\n",
    "import arcpy\n",
    "import numpy as np\n",
    "import pandas as pd\n",
    "import matplotlib.pyplot as plt\n",
    "\n",
    "from pyspark.sql.functions import pandas_udf, hour, cos, sin, radians, col\n",
    "from pyspark.sql.types import DoubleType"
   ]
  },
  {
   "cell_type": "markdown",
   "metadata": {},
   "source": [
    "### Inline all the plots and set the theme of the plots to dark mode.\n",
    "\n",
    "Note: Do the latter only if your ArcGIS Pro theme is set to dark mode."
   ]
  },
  {
   "cell_type": "code",
   "execution_count": 3,
   "metadata": {
    "pycharm": {
     "name": "#%%\n"
    }
   },
   "outputs": [],
   "source": [
    "%matplotlib inline\n",
    "\n",
    "plt.style.use('dark_background')"
   ]
  },
  {
   "cell_type": "markdown",
   "metadata": {},
   "source": [
    "### Start a Spark instance and keep a reference to it."
   ]
  },
  {
   "cell_type": "code",
   "execution_count": 4,
   "metadata": {
    "pycharm": {
     "name": "#%%\n"
    }
   },
   "outputs": [],
   "source": [
    "spark_stop() # Stop if one is running.\n",
    "\n",
    "config = {\"spark.driver.memory\":\"2G\"}\n",
    "spark = spark_start(config=config)"
   ]
  },
  {
   "cell_type": "markdown",
   "metadata": {},
   "source": [
    "### Defined 2 UDFs to project the coordinates from WGS84 to WebMercator meters."
   ]
  },
  {
   "cell_type": "code",
   "execution_count": 5,
   "metadata": {
    "pycharm": {
     "name": "#%%\n"
    }
   },
   "outputs": [],
   "source": [
    "@pandas_udf(returnType=DoubleType())\n",
    "def lonToX(lon:pd.Series)->pd.Series:\n",
    "    return 6378137.0 * np.radians(lon)\n",
    "\n",
    "@pandas_udf(returnType=DoubleType())\n",
    "def latToY(lat:pd.Series)->pd.Series:\n",
    "    return 6378137.0 * np.log(np.tan((math.pi * 0.25) + (0.5 * np.radians(lat))))"
   ]
  },
  {
   "cell_type": "markdown",
   "metadata": {},
   "source": [
    "### Define a function to calculate the [havesine](https://en.wikipedia.org/wiki/Haversine_formula) distance between 2 points in decimal degrees."
   ]
  },
  {
   "cell_type": "code",
   "execution_count": 6,
   "metadata": {
    "pycharm": {
     "name": "#%%\n"
    }
   },
   "outputs": [],
   "source": [
    "@pandas_udf(\"double\")\n",
    "def haversine(lon1:pd.Series,lat1:pd.Series,lon2:pd.Series,lat2:pd.Series)->pd.Series:\n",
    "    lon1, lat1, lon2, lat2 = map(np.radians, [lon1, lat1, lon2, lat2])\n",
    "    dlon = lon2 - lon1\n",
    "    dlat = lat2 - lat1\n",
    "    a = np.sin(dlat*0.5)**2 + np.cos(lat1) * np.cos(lat2) * np.sin(dlon*0.5)**2\n",
    "    return 6378137.0 * 2.0 * np.arcsin(np.sqrt(a))"
   ]
  },
  {
   "cell_type": "markdown",
   "metadata": {},
   "source": [
    "### Read the NYC Taxi data from a CSV file.\n",
    "\n",
    "- Adjust the `load_path` variable to your own path, if you want to replicate this notebook.\n",
    "- I know this data pretty well, and I know it is \"spatially noisy\", so I'm spatially restricting it to an area around Manhattan.\n",
    "- A trip duration should be greater than 2 minutes and not take more 100 minutes in that area.\n",
    "- I'm dropping columns that I will not be using as explanatory variables.\n",
    "- I'm geo-enriching the dataframe with 2 new columns:\n",
    "    - `meters`: The haversine distance in meters between the pickup location and dropoff location.\n",
    "    - `pickup_hour`: The pickup hour derived from the `pickup_datetime` column.\n",
    "    \n",
    "- Finally, I wanted the 23rd hour of the day to be \"near\" the first hour of the day, so I enriched the hour with its cosine and sine values to infer a \"cyclic\" behaviour."
   ]
  },
  {
   "cell_type": "code",
   "execution_count": 7,
   "metadata": {
    "pycharm": {
     "name": "#%%\n"
    }
   },
   "outputs": [],
   "source": [
    "schema = \",\".join([\n",
    "    \"id string\",\n",
    "    \"vendor_id string\",\n",
    "    \"pickup_datetime timestamp\",\n",
    "    \"dropoff_datetime timestamp\",\n",
    "    \"passenger_count string\",\n",
    "    \"pickup_longitude double\",\n",
    "    \"pickup_latitude double\",\n",
    "    \"dropoff_longitude double\",\n",
    "    \"dropoff_latitude double\",\n",
    "    \"store_and_fwd_flag string\",\n",
    "    \"trip_duration double\"\n",
    "])\n",
    "\n",
    "load_path = os.path.join(\"Z:\",os.sep,\"Kaggle\",\"nyc-taxi-trip-duration\",\"train.csv\")\n",
    "\n",
    "xmin,ymin,xmax,ymax = (-74.2555913638106, 40.496115395209344, -73.70000906387119, 40.91553277600007)\n",
    "\n",
    "where = \" and \".join([\n",
    "    f\"pickup_longitude between {xmin} and {xmax}\",\n",
    "    f\"pickup_latitude between {ymin} and {ymax}\",\n",
    "    f\"dropoff_longitude between {xmin} and {xmax}\",\n",
    "    f\"dropoff_latitude between {ymin} and {ymax}\",\n",
    "    \"trip_duration between 120 and 6000\"\n",
    "])\n",
    "\n",
    "df = spark\\\n",
    "    .read\\\n",
    "    .format(\"csv\")\\\n",
    "    .option(\"header\", True)\\\n",
    "    .option(\"parserLib\", \"univocity\")\\\n",
    "    .option(\"mode\", \"permissive\")\\\n",
    "    .schema(schema)\\\n",
    "    .load(load_path)\\\n",
    "    .where(where)\\\n",
    "    .withColumn(\"meters\", haversine(\"pickup_longitude\",\"pickup_latitude\",\"dropoff_longitude\",\"dropoff_latitude\"))\\\n",
    "    .withColumn(\"pickup_hour\", hour(\"pickup_datetime\"))\\\n",
    "    .withColumn(\"hour_rad\", radians(360.0*col(\"pickup_hour\")/23.0))\\\n",
    "    .withColumn(\"hour_cos\", cos(\"hour_rad\"))\\\n",
    "    .withColumn(\"hour_sin\", sin(\"hour_rad\"))\\\n",
    "    .drop(\"id\",\"vendor_id\",\"passenger_count\",\"store_and_fwd_flag\",\"hour_rad\",\"pickup_datetime\",\"dropoff_datetime\")\\\n",
    "    .persist()\n",
    "\n",
    "df.createOrReplaceTempView(\"v0\")"
   ]
  },
  {
   "cell_type": "markdown",
   "metadata": {},
   "source": [
    "### Let's get some insight from the data."
   ]
  },
  {
   "cell_type": "markdown",
   "metadata": {},
   "source": [
    "### Plot average travel distance by hour.\n",
    "\n",
    "Note that as of this writing (Aug 22, 2020):\n",
    "\n",
    "- Though [Arrow](https://arrow.apache.org/) is [enabled](https://docs.databricks.com/spark/latest/spark-sql/spark-pandas.html), the `toPandas()` function off a dataframe throws an expection. Had to revert back to pyarrow=0.8.0.  BTW, this is not the case for Spark 2.4.6+ on my MacBook Pro.  So, we `collect()` the data and explicitly create a Pandas dataframe.\n",
    "- We have to explicitly call `plt.show()` when in a notebook in Pro for the plots to show."
   ]
  },
  {
   "cell_type": "code",
   "execution_count": 8,
   "metadata": {
    "pycharm": {
     "name": "#%%\n"
    }
   },
   "outputs": [
    {
     "data": {
      "text/plain": [
       "<Figure size 432x288 with 0 Axes>"
      ]
     },
     "metadata": {},
     "output_type": "display_data"
    },
    {
     "data": {
      "image/png": "[encoded data removed]",
      "text/plain": [
       "<Figure size 720x360 with 1 Axes>"
      ]
     },
     "metadata": {},
     "output_type": "display_data"
    }
   ],
   "source": [
    "rows = spark.sql(f\"\"\"\n",
    "select pickup_hour,avg(meters) avg_meters\n",
    "from v0\n",
    "group by pickup_hour\n",
    "order by pickup_hour\n",
    "\"\"\")\\\n",
    "    .collect()\n",
    "\n",
    "pdf = pd.DataFrame(rows,columns=['pickup_hour','avg_meters'])\n",
    "\n",
    "plt.clf() # Clear figure\n",
    "pdf.plot(x='pickup_hour',y='avg_meters',kind='bar',figsize=(10,5))\n",
    "plt.show()"
   ]
  },
  {
   "cell_type": "markdown",
   "metadata": {},
   "source": [
    "### Plot the number of pickups by hour."
   ]
  },
  {
   "cell_type": "code",
   "execution_count": 9,
   "metadata": {
    "pycharm": {
     "name": "#%%\n"
    }
   },
   "outputs": [
    {
     "data": {
      "text/plain": [
       "<Figure size 432x288 with 0 Axes>"
      ]
     },
     "metadata": {},
     "output_type": "display_data"
    },
    {
     "data": {
      "image/png": "[encoded data removed]",
      "text/plain": [
       "<Figure size 720x360 with 1 Axes>"
      ]
     },
     "metadata": {},
     "output_type": "display_data"
    }
   ],
   "source": [
    "rows = spark.sql(f\"\"\"\n",
    "select pickup_hour,count(1) pop\n",
    "from v0\n",
    "group by pickup_hour\n",
    "order by pickup_hour\n",
    "\"\"\")\\\n",
    "    .collect()\n",
    "\n",
    "pdf = pd.DataFrame(rows,columns=['pickup_hour','pop'])\n",
    "\n",
    "plt.clf()\n",
    "ax = pdf.plot(x='pickup_hour',y='pop',kind='bar',figsize=(10,5))\n",
    "plt.show()"
   ]
  },
  {
   "cell_type": "markdown",
   "metadata": {},
   "source": [
    "### Plot distribution of the values of the prediction variable `trip_duration`.\n",
    "\n",
    "The Spark DataFrame API does not have a histogram function yet! So we fall back on the RDD API that has a [histogram](https://spark.apache.org/docs/2.4.6/api/python/pyspark.html?highlight=histogram#pyspark.RDD.histogram) function."
   ]
  },
  {
   "cell_type": "code",
   "execution_count": 10,
   "metadata": {
    "pycharm": {
     "name": "#%%\n"
    }
   },
   "outputs": [],
   "source": [
    "values,counts = df\\\n",
    "    .selectExpr('log(trip_duration)')\\\n",
    "    .rdd\\\n",
    "    .flatMap(lambda x:x)\\\n",
    "    .histogram(20)"
   ]
  },
  {
   "cell_type": "code",
   "execution_count": 11,
   "metadata": {
    "pycharm": {
     "name": "#%%\n"
    }
   },
   "outputs": [
    {
     "data": {
      "text/plain": [
       "<Figure size 432x288 with 0 Axes>"
      ]
     },
     "metadata": {},
     "output_type": "display_data"
    },
    {
     "data": {
      "image/png": "[encoded data removed]",
      "text/plain": [
       "<Figure size 720x360 with 1 Axes>"
      ]
     },
     "metadata": {},
     "output_type": "display_data"
    }
   ],
   "source": [
    "labels = [format(v,'.2f') for v in values]\n",
    "\n",
    "plt.clf()\n",
    "ax = pd.DataFrame(list(zip(labels,counts)),columns=['logdur','Frequency'])\\\n",
    "    .set_index('logdur')\\\n",
    "    .plot(kind='bar', figsize=(10,5), align='edge', rot=45, xlabel='log(Duration)')\n",
    "plt.show()"
   ]
  },
  {
   "cell_type": "markdown",
   "metadata": {},
   "source": [
    "### Create spatial bins of the data and create a feature class in the ToC.\n",
    "\n",
    "The spatial binning will be performed in meters, so we will first project the data to web mercator.\n",
    "\n",
    "Note: Rather than using an inner table for the bins, we will use the `with` statement for clarity."
   ]
  },
  {
   "cell_type": "code",
   "execution_count": 12,
   "metadata": {
    "pycharm": {
     "name": "#%%\n"
    }
   },
   "outputs": [],
   "source": [
    "cell1 = 200.0 # meters\n",
    "cell2 = cell1 * 0.5\n",
    "\n",
    "df\\\n",
    "    .select(\"pickup_longitude\",\"pickup_latitude\")\\\n",
    "    .withColumn(\"px\", lonToX(\"pickup_longitude\"))\\\n",
    "    .withColumn(\"py\", latToY(\"pickup_latitude\"))\\\n",
    "    .createOrReplaceTempView(\"v1\")\n",
    "\n",
    "rows = spark.sql(f\"\"\"\n",
    "with bins as (select cast(px/{cell1} as long) bx,cast(py/{cell1} as long) by from v1)\n",
    "\n",
    "select bx*{cell1}+{cell2} x,by*{cell1}+{cell2} y,count(1) pop\n",
    "from bins\n",
    "group by bx,by\n",
    "\"\"\")\\\n",
    "    .collect()"
   ]
  },
  {
   "cell_type": "markdown",
   "metadata": {},
   "source": [
    "### Create an in memory feature class of the bin points."
   ]
  },
  {
   "cell_type": "code",
   "execution_count": 13,
   "metadata": {
    "pycharm": {
     "name": "#%%\n"
    }
   },
   "outputs": [],
   "source": [
    "ws = \"memory\"\n",
    "nm = \"Bins\"\n",
    "\n",
    "fc = os.path.join(ws, nm)\n",
    "\n",
    "arcpy.management.Delete(fc)\n",
    "\n",
    "sp_ref = arcpy.SpatialReference(3857)\n",
    "arcpy.management.CreateFeatureclass(ws, nm, \"POINT\", spatial_reference=sp_ref)\n",
    "arcpy.management.AddField(fc, \"POP\", \"LONG\")\n",
    "\n",
    "with arcpy.da.InsertCursor(fc, [\"SHAPE@X\",\"SHAPE@Y\",\"POP\"]) as cursor:\n",
    "    for row in rows:\n",
    "        cursor.insertRow(row)"
   ]
  },
  {
   "cell_type": "markdown",
   "metadata": {},
   "source": [
    "### Prepare data for ML/GP Regression Task\n",
    "\n",
    "Note:\n",
    "\n",
    "- Added `mps` (meters per second) column to enable further filtering to just \"moving\" trips.\n",
    "- Added `SHAPE@X` and `SHAPE@Y` fields in web mercator spatial reference, and set the name to the format accepted by ArcPy."
   ]
  },
  {
   "cell_type": "code",
   "execution_count": 14,
   "metadata": {
    "pycharm": {
     "name": "#%%\n"
    }
   },
   "outputs": [
    {
     "name": "stdout",
     "output_type": "stream",
     "text": [
      "root\n",
      " |-- plon: double (nullable = true)\n",
      " |-- plat: double (nullable = true)\n",
      " |-- dlon: double (nullable = true)\n",
      " |-- dlat: double (nullable = true)\n",
      " |-- duration: double (nullable = true)\n",
      " |-- meters: double (nullable = true)\n",
      " |-- hour_cos: double (nullable = true)\n",
      " |-- hour_sin: double (nullable = true)\n",
      " |-- mps: double (nullable = true)\n",
      " |-- SHAPE@X: double (nullable = true)\n",
      " |-- SHAPE@Y: double (nullable = true)\n",
      "\n"
     ]
    }
   ],
   "source": [
    "gp = df\\\n",
    "    .drop('pickup_hour')\\\n",
    "    .withColumnRenamed('pickup_longitude','plon')\\\n",
    "    .withColumnRenamed('pickup_latitude','plat')\\\n",
    "    .withColumnRenamed('dropoff_longitude','dlon')\\\n",
    "    .withColumnRenamed('dropoff_latitude','dlat')\\\n",
    "    .withColumnRenamed('trip_duration','duration')\\\n",
    "    .withColumnRenamed('pickup_longitude','plon')\\\n",
    "    .withColumnRenamed('pickup_longitude','plon')\\\n",
    "    .withColumnRenamed('pickup_longitude','plon')\\\n",
    "    .withColumnRenamed('pickup_longitude','plon')\\\n",
    "    .withColumn(\"mps\",col(\"meters\")/col(\"duration\"))\\\n",
    "    .withColumn(\"SHAPE@X\", lonToX(\"plon\"))\\\n",
    "    .withColumn(\"SHAPE@Y\", latToY(\"plat\"))\\\n",
    "    .filter(\"mps between 0.5 and 10.0\")\n",
    "\n",
    "gp.printSchema()"
   ]
  },
  {
   "cell_type": "markdown",
   "metadata": {},
   "source": [
    "### Create training data feature class."
   ]
  },
  {
   "cell_type": "code",
   "execution_count": 15,
   "metadata": {
    "pycharm": {
     "name": "#%%\n"
    }
   },
   "outputs": [],
   "source": [
    "rows = gp.collect()"
   ]
  },
  {
   "cell_type": "code",
   "execution_count": 16,
   "metadata": {
    "pycharm": {
     "name": "#%%\n"
    }
   },
   "outputs": [],
   "source": [
    "ws = arcpy.env.scratchGDB  # Forest GP cannot accept memory based ws :-(\n",
    "nm = \"Train\"\n",
    "\n",
    "fields = [f.name for f in gp.schema.fields]\n",
    "\n",
    "fc = os.path.join(ws, nm)\n",
    "\n",
    "arcpy.management.Delete(fc)\n",
    "\n",
    "sp_ref = arcpy.SpatialReference(3857)\n",
    "arcpy.management.CreateFeatureclass(ws, nm, \"POINT\", spatial_reference=sp_ref)\n",
    "for f in fields[:-2]:\n",
    "    arcpy.management.AddField(fc, f, \"DOUBLE\")\n",
    "\n",
    "with arcpy.da.InsertCursor(fc, fields) as cursor:\n",
    "    for row in rows:\n",
    "        cursor.insertRow(row)"
   ]
  },
  {
   "cell_type": "code",
   "execution_count": 17,
   "metadata": {
    "pycharm": {
     "name": "#%%\n"
    }
   },
   "outputs": [],
   "source": [
    "spark_stop()"
   ]
  },
  {
   "cell_type": "markdown",
   "metadata": {},
   "source": [
    "### Run [Forest Based Regression](https://pro.arcgis.com/en/pro-app/tool-reference/spatial-statistics/how-forest-works.htm) on the feature class."
   ]
  },
  {
   "cell_type": "code",
   "execution_count": 18,
   "metadata": {
    "pycharm": {
     "name": "#%%\n"
    }
   },
   "outputs": [
    {
     "data": {
      "text/html": [
       "<h2>Output</h2><table><tr><th>id</th><th>value</th></tr><tr><td>0</td><td>Z:\\ArcGISPro\\spark_esri\\scratch.gdb\\Predictions</td></tr><tr><td>1</td><td></td></tr><tr><td>2</td><td></td></tr></table><h2>Messages</h2>Start Time: Friday, August 28, 2020 5:59:22 AM<br/>Started Spark Job 1 with 229 tasks.<br/>Spark Job 1 completed in 22.3 seconds.<br/>Started Spark Job 2 with 1 tasks.<br/>Spark Job 2 completed in 0.6 seconds.<br/>Started Spark Job 3 with 28 tasks.<br/>Spark Job 3 completed in 4.5 seconds.<br/>Started Spark Job 4 with 35 tasks.<br/>Spark Job 4 completed in 5.0 seconds.<br/>Started Spark Job 5 with 56 tasks.<br/>Spark Job 5 completed in 11.2 seconds.<br/>Started Spark Job 6 with 56 tasks.<br/>Spark Job 6 completed in 5.4 seconds.<br/>Started Spark Job 7 with 56 tasks.<br/>Spark Job 7 completed in 8.0 seconds.<br/>Started Spark Job 8 with 56 tasks.<br/>Spark Job 8 completed in 10.3 seconds.<br/>Started Spark Job 9 with 56 tasks.<br/>Spark Job 9 completed in 10.6 seconds.<br/>Started Spark Job 10 with 1 tasks.<br/>Spark Job 10 completed in 0.4 seconds.<br/>Started Spark Job 11 with 32 tasks.<br/>Spark Job 11 completed in 8.9 seconds.<br/>Started Spark Job 12 with 28 tasks.<br/>Spark Job 12 completed in 8.7 seconds.<br/>Started Spark Job 13 with 29 tasks.<br/>Spark Job 13 completed in 4.6 seconds.<br/>Started Spark Job 14 with 32 tasks.<br/>Spark Job 14 completed in 4.8 seconds.<br/>Started Spark Job 15 with 28 tasks.<br/>Spark Job 15 completed in 5.0 seconds.<br/>Started Spark Job 16 with 57 tasks.<br/>Spark Job 16 completed in 15.2 seconds.<br/>Model Characteristics<br/>Number of Trees: 100<br/>Leaf Size: 5<br/>Tree Depth: 5<br/>% of Training Available per Tree: 100<br/>Number of Randomly Sampled Variables: 3<br/>% of Training Data Excluded for Validation: 10<br/>Training Data: Regression Diagnostics<br/>metricName, score<br/>R-Squared, 0.70<br/>Mean Squared Error, 123831.00<br/>Root Mean Squared Error, 351.90<br/>Mean Absolute Error, 247.08<br/>Explained Variance, 231653.93<br/>*Predictions for the data used to train the model compared to the observed categories for those features<br/>Validation Data: Regression Diagnostics<br/>metricName, score<br/>R-Squared, 0.70<br/>Mean Squared Error, 122371.76<br/>Root Mean Squared Error, 349.82<br/>Mean Absolute Error, 245.74<br/>Explained Variance, 232154.44<br/>*Predictions for the validation data (excluded from model training) compared to the observed values for those test features<br/>Started Spark Job 17 with 56 tasks.<br/>Spark Job 17 completed in 19.1 seconds.<br/>Top Variable of Importance<br/>Variable, Importance, Percentage<br/>hour_sin, 0.01<br/>hour_cos, 0.03<br/>dlat, 0.05<br/>dlon, 0.06<br/>plat, 0.07<br/>plon, 0.12<br/>meters, 0.67<br/>------------------------------------------------------------<br/>-------------------Model Characteristics--------------------<br/>Number of Trees                                          100<br/>Leaf Size                                                  5<br/>Tree Depth                                                 5<br/>% of Training Available per Tree                         100<br/>Number of Randomly Sampled Variables                       3<br/>% of Training Data Excluded for Validation                10<br/>                                                                                                <br/>-----------Training Data: Regression Diagnostics------------<br/>metricName                         score<br/>R-Squared                           0.70<br/>Mean Squared Error             123831.00<br/>Root Mean Squared Error           351.90<br/>Mean Absolute Error               247.08<br/>Explained Variance             231653.93<br/>*Predictions for the data used to train the model compared to the observed categories for those features<br/>                                                                                                <br/>----------Validation Data: Regression Diagnostics-----------<br/>metricName                         score<br/>R-Squared                           0.70<br/>Mean Squared Error             122371.76<br/>Root Mean Squared Error           349.82<br/>Mean Absolute Error               245.74<br/>Explained Variance             232154.44<br/>*Predictions for the validation data (excluded from model training) compared to the observed values for those test features<br/>                                                                                                <br/>-----------------Top Variable of Importance-----------------<br/>Variable                                           Importance Percentage<br/>hour_sin                                                     0.01<br/>hour_cos                                                     0.03<br/>dlat                                                         0.05<br/>dlon                                                         0.06<br/>plat                                                         0.07<br/>plon                                                         0.12<br/>meters                                                       0.67<br/><br/>Succeeded at Friday, August 28, 2020 6:03:45 AM (Elapsed Time: 4 minutes 22 seconds)<br/><style>.rendered_html td, .rendered_html th {text-align: left;}.rendered_html tbody {border: 1px solid black;}</style>"
      ],
      "text/plain": [
       "<Result 'Z:\\\\ArcGISPro\\\\spark_esri\\\\scratch.gdb\\\\Predictions'>"
      ]
     },
     "execution_count": 18,
     "metadata": {},
     "output_type": "execute_result"
    }
   ],
   "source": [
    "output = os.path.join(arcpy.env.scratchGDB,\"Predictions\")\n",
    "\n",
    "arcpy.gapro.Forest(\"TRAIN\",\n",
    "                   \"Train\",\n",
    "                   output,\n",
    "                   variable_predict=\"duration\",\n",
    "                   explanatory_variables=\"dlat false;dlon false;hour_cos false;hour_sin false;meters false;plat false;plon false\",\n",
    "                   number_of_trees=100,\n",
    "                   minimum_leaf_size=5,\n",
    "                   maximum_tree_depth=5)"
   ]
  },
  {
   "cell_type": "markdown",
   "metadata": {},
   "source": [
    "A model with an R-Squared of 0.70 off the validation data is generated. Not bad for first time through !\n",
    "\n",
    "And of course the most important variable is `meters` (67%), which kinda makes sense :-)"
   ]
  }
 ],
 "metadata": {
  "kernelspec": {
   "display_name": "Python 3 (ipykernel)",
   "language": "python",
   "name": "python3"
  },
  "language_info": {
   "codemirror_mode": {
    "name": "ipython",
    "version": 3
   },
   "file_extension": ".py",
   "mimetype": "text/x-python",
   "name": "python",
   "nbconvert_exporter": "python",
   "pygments_lexer": "ipython3",
   "version": "3.10.8"
  }
 },
 "nbformat": 4,
 "nbformat_minor": 4
}
